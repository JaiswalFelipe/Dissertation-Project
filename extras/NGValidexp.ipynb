{
  "nbformat": 4,
  "nbformat_minor": 0,
  "metadata": {
    "colab": {
      "name": "NGValidexp.ipynb",
      "provenance": []
    },
    "kernelspec": {
      "name": "python3",
      "display_name": "Python 3"
    },
    "language_info": {
      "name": "python"
    }
  },
  "cells": [
    {
      "cell_type": "markdown",
      "source": [
        "# Req"
      ],
      "metadata": {
        "id": "7yMhuNEJv8VT"
      }
    },
    {
      "cell_type": "code",
      "execution_count": 1,
      "metadata": {
        "id": "kNakI8H8vGBX"
      },
      "outputs": [],
      "source": [
        "import os\n",
        "import sys\n",
        "import numpy as np\n",
        "import pandas as pd\n",
        "\n",
        "import imageio\n",
        "from skimage import transform\n",
        "from skimage import img_as_float\n",
        "\n",
        "import torch\n",
        "from torch.utils import data\n",
        "\n",
        "#from data_utils import create_or_load_statistics, create_distrib, normalize_images, data_augmentation, compute_image_mean\n"
      ]
    },
    {
      "cell_type": "markdown",
      "source": [
        "# utils"
      ],
      "metadata": {
        "id": "NJhXH2o1vyHt"
      }
    },
    {
      "cell_type": "code",
      "source": [
        "def normalize_images(data, _mean, _std):\n",
        "    for i in range(len(_mean)):\n",
        "        data[:, :, i] = np.subtract(data[:, :, i], _mean[i])\n",
        "        data[:, :, i] = np.divide(data[:, :, i], _std[i])\n",
        "\n",
        "def compute_image_mean(data):\n",
        "    _mean = np.mean(np.mean(np.mean(data, axis=0), axis=0), axis=0)\n",
        "    _std = np.std(np.std(np.std(data, axis=0, ddof=1), axis=0, ddof=1), axis=0, ddof=1)\n",
        "\n",
        "    return _mean, _std"
      ],
      "metadata": {
        "id": "RViHqNMWvwdm"
      },
      "execution_count": 1,
      "outputs": []
    },
    {
      "cell_type": "markdown",
      "source": [
        "# Dataset"
      ],
      "metadata": {
        "id": "WKsTSooQwAAx"
      }
    },
    {
      "cell_type": "code",
      "source": [
        "class NGValid(data.Dataset):\n",
        "  def __init__(self, img_dir, mask_dir, output_path):\n",
        "\n",
        "    self.img_dir = img_dir\n",
        "    self.mask_dir = mask_dir\n",
        "    self.images = os.listdir(img_dir)\n",
        "    self.masks = os.listdir(mask_dir)\n",
        "\n",
        "\n",
        "    self.output_path = output_path\n",
        "\n",
        "\n",
        "    # data and label\n",
        "    self.data, self.labels = self.load_images()\n",
        "    #self.data[np.where(self.data < -1.0e+38)] = 0  # remove extreme negative values (probably NO_DATA values)\n",
        "    #print(self.data.ndim, self.data.shape, self.data[0].shape, np.min(self.data), np.max(self.data),\n",
        "    #          self.labels.shape, np.bincount(self.labels.astype(int).flatten()))\n",
        "\n",
        "    if self.data.ndim == 4:  # if all images have the same shape\n",
        "            self.num_channels = self.data.shape[-1]  # get the number of channels\n",
        "    else:\n",
        "            self.num_channels = self.data[0].shape[-1]  # get the number of channels\n",
        "\n",
        "    self.num_classes = 2  # binary - two classes\n",
        "    # negative classes will be converted into 2 so they can be ignored in the loss\n",
        "    self.labels[np.where(self.labels < 0)] = 2\n",
        "\n",
        "    print('num_channels and labels', self.num_channels, self.num_classes, np.bincount(self.labels.flatten()))\n",
        "\n",
        "    #self.distrib, self.gen_classes = self.make_dataset()\n",
        "\n",
        "    self.mean, self.std = compute_image_mean(self.data)\n",
        "\n",
        "        \n",
        "    def load_images(self):\n",
        "        images = []\n",
        "        masks = []\n",
        "        for img in self.images:\n",
        "            temp_image = imageio.imread(os.path.join(self.img_dir, img + '')).astype(np.float64)\n",
        "            temp_image[np.where(temp_image < -1.0e+38)] = 0 # remove extreme negative values (probably NO_DATA values)\n",
        "            \n",
        "            images.append(temp_image)\n",
        "\n",
        "        for msk in self.masks:\n",
        "            temp_mask = imageio.imread(os.path.join(self.mask_dir, msk + '')).astype(int)\n",
        "            temp_mask[np.where(temp_mask < -1.0e+38)] = 0\n",
        "\n",
        "            masks.append(temp_mask)\n",
        "\n",
        "        return np.asarray(images), np.asarray(masks)\n",
        "\n",
        "\n",
        "    def __getitem__(self, index):\n",
        "        # Reading items from list.\n",
        "        cur_map, cur_x, cur_y = self.coords.iloc[index, 0], self.coords.iloc[index, 1], self.coords.iloc[index, 2]\n",
        "\n",
        "        img = np.copy(self.data[cur_map][cur_x, cur_y, :])\n",
        "        label = np.copy(self.labels[cur_map][cur_x, cur_y])\n",
        "\n",
        "        # Normalization.\n",
        "        normalize_images(img, self.mean, self.std)\n",
        "\n",
        "        # Transposing back to image shape\n",
        "        img = np.transpose(img, (2, 0, 1))\n",
        "\n",
        "        # Turning to tensors.\n",
        "        img = torch.from_numpy(img.copy())\n",
        "        label = torch.from_numpy(label.copy())\n",
        "\n",
        "        # Returning to iterator.\n",
        "        return img.float(), label, cur_map, cur_x, cur_y\n",
        "\n",
        "    def __len__(self):\n",
        "        return len(self.data)"
      ],
      "metadata": {
        "id": "6zORofKWvGyw"
      },
      "execution_count": null,
      "outputs": []
    },
    {
      "cell_type": "markdown",
      "source": [
        "# debug"
      ],
      "metadata": {
        "id": "Q6qnCNYjwXnZ"
      }
    },
    {
      "cell_type": "markdown",
      "source": [
        "### parsing"
      ],
      "metadata": {
        "id": "FlhkEh9FNCsP"
      }
    },
    {
      "cell_type": "code",
      "source": [
        "import re\n",
        "\n",
        "img_dir = '/content/drive/MyDrive/vali_exp/'\n",
        "images = os.listdir(img_dir)\n",
        "\n",
        "fn_parse = str(images[0].replace('.tif', ''))\n",
        "print(type(fn_parse))\n",
        "print(fn_parse) \n",
        "\n",
        "cur_map = str(re.split(\"_\", fn_parse)[0])\n",
        "cur_x = str(re.split(\"_\", fn_parse)[1])\n",
        "cur_y = str(re.split(\"_\", fn_parse)[-1])\n",
        "\n",
        "\n",
        "print(type(cur_x)) \n",
        "print(\"cur_x\", cur_x) \n",
        "\n",
        "print(type(cur_y)) \n",
        "print(\"cur_y\", cur_y) \n",
        "\n",
        "print(type(cur_map)) \n",
        "print(\"cur_map\", cur_map)"
      ],
      "metadata": {
        "colab": {
          "base_uri": "https://localhost:8080/"
        },
        "id": "XxYWaQXEztCW",
        "outputId": "2e630440-f875-474f-8e93-57bd4f27cccd"
      },
      "execution_count": 66,
      "outputs": [
        {
          "output_type": "stream",
          "name": "stdout",
          "text": [
            "<class 'str'>\n",
            "0_-526836.719036524_3353652.33760551\n",
            "<class 'str'>\n",
            "cur_x -526836.719036524\n",
            "<class 'str'>\n",
            "cur_y 3353652.33760551\n",
            "<class 'str'>\n",
            "cur_map 0\n"
          ]
        }
      ]
    },
    {
      "cell_type": "markdown",
      "source": [
        "### Skeleton"
      ],
      "metadata": {
        "id": "TPwHu1DJQI2t"
      }
    },
    {
      "cell_type": "code",
      "source": [
        "import re\n",
        "\n",
        "img_dir = '/content/drive/MyDrive/vali_exp/'\n",
        "images = os.listdir(img_dir)\n",
        "\n",
        "#print(images)       # tile_names\n",
        "#print(type(images)) # list\n",
        "\n",
        "img_list = []\n",
        "cur_maps = []\n",
        "cur_xs = []\n",
        "cur_ys = []\n",
        "\n",
        "for img in images:\n",
        "\n",
        "  temp_image = imageio.imread(os.path.join(img_dir, img + '')).astype(np.float64)\n",
        "  temp_image[np.where(temp_image < -1.0e+38)] = 0 # remove extreme negative values (probably NO_DATA values)\n",
        "\n",
        "  fn_parse = str(img.replace('.tif', ''))\n",
        "  cur_map = str(re.split(\"_\", fn_parse)[0])\n",
        "  cur_x = str(re.split(\"_\", fn_parse)[1])\n",
        "  cur_y = str(re.split(\"_\", fn_parse)[-1])\n",
        "\n",
        "  cur_maps.append(cur_map)\n",
        "  cur_xs.append(cur_x)\n",
        "  cur_ys.append(cur_y)\n",
        "  img_list.append(temp_image)\n",
        "\n"
      ],
      "metadata": {
        "id": "yimTACedwYUZ"
      },
      "execution_count": null,
      "outputs": []
    },
    {
      "cell_type": "markdown",
      "source": [
        "### function"
      ],
      "metadata": {
        "id": "nYp2BqJBccoC"
      }
    },
    {
      "cell_type": "code",
      "source": [
        "#img_dir = '/content/drive/MyDrive/vali_exp/'\n",
        "#images = os.listdir(img_dir)\n",
        "\n",
        "def load(img_dir, images):\n",
        "\n",
        "  img_list = []\n",
        "  cur_maps = []\n",
        "  cur_xs = []\n",
        "  cur_ys = []\n",
        "\n",
        "  for img in images:\n",
        "\n",
        "    temp_image = imageio.imread(os.path.join(img_dir, img + '')).astype(np.float64)\n",
        "    temp_image[np.where(temp_image < -1.0e+38)] = 0 # remove extreme negative values (probably NO_DATA values)\n",
        "\n",
        "    fn_parse = str(img.replace('.tif', ''))\n",
        "    cur_map = str(re.split(\"_\", fn_parse)[0])\n",
        "    cur_x = str(re.split(\"_\", fn_parse)[1])\n",
        "    cur_y = str(re.split(\"_\", fn_parse)[-1])\n",
        "\n",
        "    cur_maps.append(cur_map)\n",
        "    cur_xs.append(cur_x)\n",
        "    cur_ys.append(cur_y)\n",
        "    img_list.append(temp_image)\n",
        "\n",
        "  return np.asarray(img_list), cur_maps, cur_xs, cur_ys\n",
        "\n"
      ],
      "metadata": {
        "id": "VpfddRjq4oCX"
      },
      "execution_count": 16,
      "outputs": []
    },
    {
      "cell_type": "code",
      "source": [
        "imgs, cur_maps, cur_xs, cur_ys = load(img_dir, images)\n",
        "\n",
        "print(type(imgs))\n",
        "print(len(imgs))\n",
        "\n",
        "print(type(cur_xs))\n",
        "print(len(cur_xs))\n",
        "print(cur_xs)"
      ],
      "metadata": {
        "id": "dljJ-daNd3aP"
      },
      "execution_count": null,
      "outputs": []
    }
  ]
}