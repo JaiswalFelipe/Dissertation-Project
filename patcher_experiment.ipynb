{
  "nbformat": 4,
  "nbformat_minor": 0,
  "metadata": {
    "colab": {
      "name": "patcher_experiment.ipynb",
      "provenance": [],
      "collapsed_sections": [
        "3aiLxpW-bDpI",
        "3lZi00ynFIjV"
      ],
      "mount_file_id": "1EUKMh00LcmDAdZhrEqyjUCAZdWOISG8M",
      "authorship_tag": "ABX9TyMj6ib0GbvulDe3zhWB+KKq",
      "include_colab_link": true
    },
    "kernelspec": {
      "name": "python3",
      "display_name": "Python 3"
    },
    "language_info": {
      "name": "python"
    }
  },
  "cells": [
    {
      "cell_type": "markdown",
      "metadata": {
        "id": "view-in-github",
        "colab_type": "text"
      },
      "source": [
        "<a href=\"https://colab.research.google.com/github/JaiswalFelipe/Dissertation-Project/blob/main/patcher_experiment.ipynb\" target=\"_parent\"><img src=\"https://colab.research.google.com/assets/colab-badge.svg\" alt=\"Open In Colab\"/></a>"
      ]
    },
    {
      "cell_type": "code",
      "execution_count": null,
      "metadata": {
        "colab": {
          "base_uri": "https://localhost:8080/"
        },
        "id": "f5OE7qSVWLdZ",
        "outputId": "f2d81ef9-fba4-4ccb-ed91-13917be91bd7"
      },
      "outputs": [
        {
          "output_type": "stream",
          "name": "stdout",
          "text": [
            "Looking in indexes: https://pypi.org/simple, https://us-python.pkg.dev/colab-wheels/public/simple/\n",
            "Requirement already satisfied: rasterio in /usr/local/lib/python3.7/dist-packages (1.2.10)\n",
            "Requirement already satisfied: snuggs>=1.4.1 in /usr/local/lib/python3.7/dist-packages (from rasterio) (1.4.7)\n",
            "Requirement already satisfied: numpy in /usr/local/lib/python3.7/dist-packages (from rasterio) (1.21.6)\n",
            "Requirement already satisfied: certifi in /usr/local/lib/python3.7/dist-packages (from rasterio) (2022.6.15)\n",
            "Requirement already satisfied: click-plugins in /usr/local/lib/python3.7/dist-packages (from rasterio) (1.1.1)\n",
            "Requirement already satisfied: attrs in /usr/local/lib/python3.7/dist-packages (from rasterio) (21.4.0)\n",
            "Requirement already satisfied: click>=4.0 in /usr/local/lib/python3.7/dist-packages (from rasterio) (7.1.2)\n",
            "Requirement already satisfied: cligj>=0.5 in /usr/local/lib/python3.7/dist-packages (from rasterio) (0.7.2)\n",
            "Requirement already satisfied: setuptools in /usr/local/lib/python3.7/dist-packages (from rasterio) (57.4.0)\n",
            "Requirement already satisfied: affine in /usr/local/lib/python3.7/dist-packages (from rasterio) (2.3.1)\n",
            "Requirement already satisfied: pyparsing>=2.1.6 in /usr/local/lib/python3.7/dist-packages (from snuggs>=1.4.1->rasterio) (3.0.9)\n",
            "Looking in indexes: https://pypi.org/simple, https://us-python.pkg.dev/colab-wheels/public/simple/\n",
            "Requirement already satisfied: patchify in /usr/local/lib/python3.7/dist-packages (0.2.3)\n",
            "Requirement already satisfied: numpy<2,>=1 in /usr/local/lib/python3.7/dist-packages (from patchify) (1.21.6)\n",
            "Looking in indexes: https://pypi.org/simple, https://us-python.pkg.dev/colab-wheels/public/simple/\n",
            "Requirement already satisfied: imagecodecs in /usr/local/lib/python3.7/dist-packages (2021.11.20)\n",
            "Requirement already satisfied: numpy>=1.16.5 in /usr/local/lib/python3.7/dist-packages (from imagecodecs) (1.21.6)\n",
            "Looking in indexes: https://pypi.org/simple, https://us-python.pkg.dev/colab-wheels/public/simple/\n",
            "Requirement already satisfied: tifffile in /usr/local/lib/python3.7/dist-packages (2021.11.2)\n",
            "Requirement already satisfied: numpy>=1.15.1 in /usr/local/lib/python3.7/dist-packages (from tifffile) (1.21.6)\n",
            "Looking in indexes: https://pypi.org/simple, https://us-python.pkg.dev/colab-wheels/public/simple/\n",
            "Requirement already satisfied: GDAL in /usr/local/lib/python3.7/dist-packages (2.2.2)\n"
          ]
        }
      ],
      "source": [
        "!pip install rasterio\n",
        "!pip install patchify\n",
        "!pip install imagecodecs\n",
        "!pip install tifffile \n",
        "!pip install GDAL"
      ]
    },
    {
      "cell_type": "code",
      "source": [
        "import os \n",
        "import cv2\n",
        "import rasterio\n",
        "import numpy as np\n",
        "import tifffile as tiff\n",
        "import imageio\n",
        "\n",
        "from skimage import transform\n",
        "from skimage import img_as_float\n",
        "from matplotlib import pyplot as plt\n",
        "from patchify import patchify, unpatchify\n",
        "from PIL import Image\n",
        "from rasterio.plot import show\n",
        "from osgeo import gdal \n",
        "from sklearn.preprocessing import MinMaxScaler, StandardScaler\n",
        "\n",
        "\n",
        "scaler = MinMaxScaler()"
      ],
      "metadata": {
        "id": "57Md926jluA0"
      },
      "execution_count": null,
      "outputs": []
    },
    {
      "cell_type": "markdown",
      "source": [
        "# With band extraction experiment\n",
        "- The current image loaded is a result for \"patcher experiment for list\"\n",
        "- extracting 3 bands works"
      ],
      "metadata": {
        "id": "3aiLxpW-bDpI"
      }
    },
    {
      "cell_type": "code",
      "source": [
        "#def image_patcher(img_name, input_file, output_folder, division):\n",
        "data = gdal.Open(\"/content/drive/MyDrive/Dissertation/ng_data/tile_1599_image_stack.tif\")\n",
        "\n",
        "band1 = data.GetRasterBand(1).ReadAsArray() # float32\n",
        "band2 = data.GetRasterBand(2).ReadAsArray()\n",
        "band3 = data.GetRasterBand(3).ReadAsArray()\n",
        "\n",
        "img = np.dstack((band3,band2,band1))\n",
        "\n",
        "print(type(img))"
      ],
      "metadata": {
        "id": "jAMOUnDwtR6F",
        "colab": {
          "base_uri": "https://localhost:8080/"
        },
        "outputId": "acd4c738-f48f-43c8-f3a9-27202491f495"
      },
      "execution_count": null,
      "outputs": [
        {
          "output_type": "stream",
          "name": "stdout",
          "text": [
            "<class 'numpy.ndarray'>\n"
          ]
        }
      ]
    },
    {
      "cell_type": "code",
      "source": [
        "patches = []\n",
        "\n",
        "w, h = img.shape[1], img.shape[0] \n",
        "for i in range(0, w, 250):\n",
        "  for j in range(0, h, 250):\n",
        "                \n",
        "    cur_x = i\n",
        "    cur_y = j\n",
        "    patch = img[cur_x:cur_x + 250, cur_y:cur_y + 250]\n",
        "    patch = scaler.fit_transform(patch.reshape(-1, patch.shape[-1])).reshape(patch.shape)                \n",
        "    patches.append(patch)\n",
        "\n",
        "    tiff.imwrite(\"/content/drive/MyDrive/patch_test_run1/\" + \"patch_\" + str(i)+ str(j) + \".tif\", patch)\n"
      ],
      "metadata": {
        "id": "iTXVFBqo1Rg5"
      },
      "execution_count": null,
      "outputs": []
    },
    {
      "cell_type": "code",
      "source": [
        "temp_mask = imageio.imread(\"/content/drive/MyDrive/Dissertation/ng_data/masks/tile_1599_image_mask.tif\").astype(int)\n",
        "\n",
        "#mask_patches = []\n",
        "\n",
        "w, h = temp_mask.shape[1], temp_mask.shape[0] \n",
        "for i in range(0, w, 250):\n",
        "  for j in range(0, h, 250):\n",
        "                \n",
        "    cur_x = i\n",
        "    cur_y = j\n",
        "    mask_patch = temp_mask[cur_x:cur_x + 250, cur_y:cur_y + 250]\n",
        "#    mask_patches.append(mask_patch)\n",
        "\n",
        "    tiff.imwrite(\"/content/drive/MyDrive/patch_test_run1_mask/\" + \"patch_\" + str(i)+ str(j) + \".tif\", mask_patch)\n"
      ],
      "metadata": {
        "id": "6Taa3vMi6g7F"
      },
      "execution_count": null,
      "outputs": []
    },
    {
      "cell_type": "code",
      "source": [
        "from matplotlib import rcParams\n",
        "\n",
        "rcParams['figure.figsize'] = 15, 15\n",
        "\n",
        "patch_sample = img_as_float(imageio.imread(\"/content/drive/MyDrive/patch_test_run2/patch_01000.tif\"))\n",
        "\n",
        "\n",
        "mask = imageio.imread(\"/content/drive/MyDrive/patch_test_run1_mask/patch_01000.tif\").astype(int)\n",
        "labels, count = np.unique(mask[:,0], return_counts = True)\n",
        "\n",
        "# Check number of bands\n",
        "print(\"- Number of bands in the image\",patch_sample.shape)\n",
        "print(\"- Labels and corresponding pixels in the mask: \",labels, count)\n",
        "\n",
        "fig, ax = plt.subplots(1,2)\n",
        "ax[0].imshow(patch_sample)\n",
        "ax[1].imshow(mask)"
      ],
      "metadata": {
        "colab": {
          "base_uri": "https://localhost:8080/",
          "height": 484
        },
        "id": "l4ZemlHR291P",
        "outputId": "4ec040ad-24fa-46f8-af32-605d1a153522"
      },
      "execution_count": null,
      "outputs": [
        {
          "output_type": "stream",
          "name": "stdout",
          "text": [
            "- Number of bands in the image (23, 250)\n",
            "- Labels and corresponding pixels in the mask:  [0 1] [ 48 202]\n"
          ]
        },
        {
          "output_type": "execute_result",
          "data": {
            "text/plain": [
              "<matplotlib.image.AxesImage at 0x7f5bbb446290>"
            ]
          },
          "metadata": {},
          "execution_count": 25
        },
        {
          "output_type": "display_data",
          "data": {
            "text/plain": [
              "<Figure size 1080x1080 with 2 Axes>"
            ],
            "image/png": "[encoded data removed]"
          },
          "metadata": {
            "needs_background": "light"
          }
        }
      ]
    },
    {
      "cell_type": "markdown",
      "source": [
        "# patcher experiment for list"
      ],
      "metadata": {
        "id": "3lZi00ynFIjV"
      }
    },
    {
      "cell_type": "code",
      "source": [
        "def test_patcher(image):\n",
        "  img = img_as_float(imageio.imread(image))\n",
        "\n",
        "  patches = []\n",
        "\n",
        "  w, h = img.shape[1], img.shape[0] \n",
        "  for i in range(0, w, 250):\n",
        "    for j in range(0, h, 250):\n",
        "                \n",
        "      cur_x = i\n",
        "      cur_y = j\n",
        "      patch = img[cur_x:cur_x + 250, cur_y:cur_y + 250]\n",
        "      patch = scaler.fit_transform(patch.reshape(-1, patch.shape[-1])).reshape(patch.shape)                \n",
        "      patches.append(patch)\n",
        "\n",
        "  return patches\n",
        "\n",
        "\n",
        "\n",
        "    #tiff.imwrite(\"/content/drive/MyDrive/patch_test_run1/\" + \"patch_\" + str(i)+ str(j) + \".tif\", patch)\n"
      ],
      "metadata": {
        "id": "N7rCENFBZdih"
      },
      "execution_count": null,
      "outputs": []
    },
    {
      "cell_type": "code",
      "source": [
        "my_list = test_patcher(\"/content/drive/MyDrive/Dissertation/ng_data/tile_1599_image_stack.tif\")"
      ],
      "metadata": {
        "id": "xKbU3Qjmmje3"
      },
      "execution_count": null,
      "outputs": []
    },
    {
      "cell_type": "code",
      "source": [
        "ar_my_list = np.array(my_list)\n",
        "\n",
        "print(type(ar_my_list))\n",
        "print(ar_my_list.shape)"
      ],
      "metadata": {
        "colab": {
          "base_uri": "https://localhost:8080/"
        },
        "id": "1JuGvOR_nVTD",
        "outputId": "b89de969-0b2f-4591-e57a-4c5a085c2fff"
      },
      "execution_count": null,
      "outputs": [
        {
          "output_type": "stream",
          "name": "stdout",
          "text": [
            "<class 'numpy.ndarray'>\n",
            "(256, 250, 250, 23)\n"
          ]
        }
      ]
    },
    {
      "cell_type": "code",
      "source": [
        ""
      ],
      "metadata": {
        "id": "03OXtkm4otZO"
      },
      "execution_count": null,
      "outputs": []
    }
  ]
}